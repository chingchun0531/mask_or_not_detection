{
 "cells": [
  {
   "cell_type": "code",
   "execution_count": 1,
   "metadata": {},
   "outputs": [
    {
     "name": "stdout",
     "output_type": "stream",
     "text": [
      "./images//incorrect_mask/目录下共有4584张图片！\n",
      "要移动到./test/incorrect_mask/目录下的图片数目为:1375\n",
      "save_test_dir already exited!\n",
      "save_train_dir has been created successfully!\n",
      "test移动完成！\n",
      "train移动完成\n",
      "./images//no_mask/目录下共有4640张图片！\n",
      "要移动到./test/no_mask/目录下的图片数目为:1392\n",
      "save_test_dir has been created successfully!\n",
      "save_train_dir has been created successfully!\n",
      "test移动完成！\n",
      "train移动完成\n",
      "./images//with_mask/目录下共有4568张图片！\n",
      "要移动到./test/with_mask/目录下的图片数目为:1370\n",
      "save_test_dir has been created successfully!\n",
      "save_train_dir has been created successfully!\n",
      "test移动完成！\n",
      "train移动完成\n",
      "all datas has been moved successfully!\n"
     ]
    }
   ],
   "source": [
    "import os\n",
    "import random\n",
    "import shutil\n",
    "import csv\n",
    "import numpy as np\n",
    "def CopyFile(imageDir,test_rate,save_test_dir,save_train_dir):\n",
    "    image_number = len(imageDir)  #total images\n",
    "    test_number = int(image_number * test_rate)#要移動的image數量\n",
    "    print(\"要移動到%s目錄下的數量:%d\"%(save_test_dir,test_number))\n",
    "    test_samples = random.sample(imageDir, test_number)\n",
    " # copy到file\n",
    "    if not os.path.exists(save_test_dir):\n",
    "        os.makedirs(save_test_dir)\n",
    "        print(\"save_test_dir has been created successfully!\")\n",
    "    else:\n",
    "        print(\"save_test_dir already exited!\")\n",
    "    if not os.path.exists(save_train_dir):\n",
    "        os.makedirs(save_train_dir)\n",
    "        print(\"save_train_dir has been created successfully!\")\n",
    "    else:\n",
    "        print(\"save_train_dir already exited!\")\n",
    "    for i,j in enumerate(test_samples):\n",
    "        shutil.copy(test_samples[i], save_test_dir+test_samples[i].split(\"/\")[-1])\n",
    "    print(\"test完成！\")\n",
    "    for train_imgs in imageDir:\n",
    "        if train_imgs not in test_samples:\n",
    "            shutil.copy(train_imgs, save_train_dir+train_imgs.split(\"/\")[-1])\n",
    "    print(\"train完成\")\n",
    "################################\n",
    "file_path=\"./images/\"\n",
    "test_rate = 0.3\n",
    "################################\n",
    "file_dirs=os.listdir(file_path)\n",
    "origion_paths=[]\n",
    "save_test_dirs=[]\n",
    "save_train_dirs=[]\n",
    "for path in file_dirs:\n",
    "   origion_paths.append(file_path+\"/\"+path+\"/\")\n",
    "   save_train_dirs.append(\"./train/\"+path+\"/\")\n",
    "   save_test_dirs.append(\"./test/\"+path+\"/\")\n",
    "for i,origion_path in enumerate(origion_paths):\n",
    "    image_list = os.listdir(origion_path)\n",
    "    image_Dir=[]\n",
    "    for x,y in enumerate(image_list):\n",
    "        image_Dir.append (os.path.join(origion_path, y))\n",
    "    print(\"%s目錄下共有%d张圖片！\"%(origion_path,len(image_Dir)))\n",
    "    CopyFile(image_Dir,test_rate,save_test_dirs[i],save_train_dirs[i])\n",
    "print(\"all datas has been moved successfully!\")"
   ]
  }
 ],
 "metadata": {
  "kernelspec": {
   "display_name": "Python 3",
   "language": "python",
   "name": "python3"
  },
  "language_info": {
   "codemirror_mode": {
    "name": "ipython",
    "version": 3
   },
   "file_extension": ".py",
   "mimetype": "text/x-python",
   "name": "python",
   "nbconvert_exporter": "python",
   "pygments_lexer": "ipython3",
   "version": "3.10.6"
  },
  "orig_nbformat": 4
 },
 "nbformat": 4,
 "nbformat_minor": 2
}
